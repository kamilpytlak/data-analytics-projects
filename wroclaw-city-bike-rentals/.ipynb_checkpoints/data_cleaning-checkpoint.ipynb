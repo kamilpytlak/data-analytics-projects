{
 "cells": [
  {
   "cell_type": "markdown",
   "id": "6d0aa908-53b8-451b-a13e-8cfe2f61e54c",
   "metadata": {},
   "source": [
    "# Downloading and merging Wrocław city bike rentals and weather-related data using web-scraping"
   ]
  },
  {
   "cell_type": "markdown",
   "id": "ec7b5ab6-278a-499e-bfb4-b2722e3fb601",
   "metadata": {},
   "source": [
    "## Wrocław city bike rentals"
   ]
  },
  {
   "cell_type": "markdown",
   "id": "48077c6e-5abb-459a-bd08-4f6551880d1c",
   "metadata": {},
   "source": [
    "## Weather"
   ]
  },
  {
   "cell_type": "markdown",
   "id": "a4336385-7986-4952-b038-841ecf3560b1",
   "metadata": {},
   "source": [
    "## PM"
   ]
  }
 ],
 "metadata": {
  "kernelspec": {
   "display_name": "data-analytics",
   "language": "python",
   "name": "data-analytics"
  },
  "language_info": {
   "codemirror_mode": {
    "name": "ipython",
    "version": 3
   },
   "file_extension": ".py",
   "mimetype": "text/x-python",
   "name": "python",
   "nbconvert_exporter": "python",
   "pygments_lexer": "ipython3",
   "version": "3.9.12"
  },
  "toc-autonumbering": true,
  "toc-showcode": false,
  "toc-showmarkdowntxt": false,
  "toc-showtags": false
 },
 "nbformat": 4,
 "nbformat_minor": 5
}
