{
 "cells": [
  {
   "cell_type": "code",
   "execution_count": 6,
   "id": "5d9beca5-adb1-45e3-9238-3f8cd3b29b13",
   "metadata": {},
   "outputs": [
    {
     "ename": "NameError",
     "evalue": "name 's' is not defined",
     "output_type": "error",
     "traceback": [
      "\u001b[1;31m---------------------------------------------------------------------------\u001b[0m",
      "\u001b[1;31mNameError\u001b[0m                                 Traceback (most recent call last)",
      "Input \u001b[1;32mIn [6]\u001b[0m, in \u001b[0;36m<cell line: 1>\u001b[1;34m()\u001b[0m\n\u001b[1;32m----> 1\u001b[0m \u001b[38;5;241m2\u001b[39m \u001b[38;5;241m+\u001b[39m \u001b[43ms\u001b[49m\n",
      "\u001b[1;31mNameError\u001b[0m: name 's' is not defined"
     ]
    }
   ],
   "source": [
    "2 + s"
   ]
  },
  {
   "cell_type": "markdown",
   "id": "6d0aa908-53b8-451b-a13e-8cfe2f61e54c",
   "metadata": {},
   "source": [
    "# Downloading and merging Wrocław weather-related data using web-scraping"
   ]
  },
  {
   "cell_type": "markdown",
   "id": "48077c6e-5abb-459a-bd08-4f6551880d1c",
   "metadata": {},
   "source": [
    "## Weather data"
   ]
  },
  {
   "cell_type": "markdown",
   "id": "a4336385-7986-4952-b038-841ecf3560b1",
   "metadata": {},
   "source": [
    "## PM data"
   ]
  }
 ],
 "metadata": {
  "kernelspec": {
   "display_name": "data-analytics",
   "language": "python",
   "name": "data-analytics"
  },
  "language_info": {
   "codemirror_mode": {
    "name": "ipython",
    "version": 3
   },
   "file_extension": ".py",
   "mimetype": "text/x-python",
   "name": "python",
   "nbconvert_exporter": "python",
   "pygments_lexer": "ipython3",
   "version": "3.9.12"
  },
  "toc-autonumbering": true,
  "toc-showcode": false,
  "toc-showmarkdowntxt": false,
  "toc-showtags": false
 },
 "nbformat": 4,
 "nbformat_minor": 5
}
